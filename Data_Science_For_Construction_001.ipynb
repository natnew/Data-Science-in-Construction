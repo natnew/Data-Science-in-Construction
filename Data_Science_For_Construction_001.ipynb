{
  "nbformat": 4,
  "nbformat_minor": 0,
  "metadata": {
    "colab": {
      "name": "Data Science For Construction 001.ipynb",
      "provenance": [],
      "authorship_tag": "ABX9TyN2tFvTPFzxcQnx2b7sAjsK",
      "include_colab_link": true
    },
    "kernelspec": {
      "name": "python3",
      "display_name": "Python 3"
    },
    "language_info": {
      "name": "python"
    }
  },
  "cells": [
    {
      "cell_type": "markdown",
      "metadata": {
        "id": "view-in-github",
        "colab_type": "text"
      },
      "source": [
        "<a href=\"https://colab.research.google.com/github/natnew/Data-Science-in-Construction/blob/main/Data_Science_For_Construction_001.ipynb\" target=\"_parent\"><img src=\"https://colab.research.google.com/assets/colab-badge.svg\" alt=\"Open In Colab\"/></a>"
      ]
    },
    {
      "cell_type": "markdown",
      "source": [
        "# The Basics\n"
      ],
      "metadata": {
        "id": "qxD-4a9YtAxI"
      }
    },
    {
      "cell_type": "code",
      "execution_count": 1,
      "metadata": {
        "id": "UwSJWgnynguS"
      },
      "outputs": [],
      "source": [
        "#A python Print statement"
      ]
    },
    {
      "cell_type": "code",
      "source": [
        "print(\"Hello World\")"
      ],
      "metadata": {
        "colab": {
          "base_uri": "https://localhost:8080/"
        },
        "id": "uhvoPFECnqhH",
        "outputId": "90f750d5-de1c-42ac-efc7-477ecd0a7861"
      },
      "execution_count": 2,
      "outputs": [
        {
          "output_type": "stream",
          "name": "stdout",
          "text": [
            "Hello World\n"
          ]
        }
      ]
    },
    {
      "cell_type": "code",
      "source": [
        "#Find the current working directory\n",
        "import os\n",
        "print(os.getcwd())"
      ],
      "metadata": {
        "colab": {
          "base_uri": "https://localhost:8080/"
        },
        "id": "pVfilaZ2nznx",
        "outputId": "643339c7-f3d9-4e61-d3f9-a33b8e9f3490"
      },
      "execution_count": 3,
      "outputs": [
        {
          "output_type": "stream",
          "name": "stdout",
          "text": [
            "/content\n"
          ]
        }
      ]
    },
    {
      "cell_type": "code",
      "source": [
        "#Set the working direct to a locaton of my choice\n",
        "os.chdir('/content/sample_data')\n",
        "print(os.getcwd())"
      ],
      "metadata": {
        "colab": {
          "base_uri": "https://localhost:8080/"
        },
        "id": "U55wSNpnoDJy",
        "outputId": "30a89885-d20e-4ce5-a407-3504415f685d"
      },
      "execution_count": 4,
      "outputs": [
        {
          "output_type": "stream",
          "name": "stdout",
          "text": [
            "/content/sample_data\n"
          ]
        }
      ]
    },
    {
      "cell_type": "code",
      "source": [
        "#strings and integers and floats.\n",
        "#the following lines of codes experiement with basic data strutures in Python, namely strongs and numbers.\n",
        "#Experimentation with multiplication\n",
        "2 * 2\n"
      ],
      "metadata": {
        "colab": {
          "base_uri": "https://localhost:8080/"
        },
        "id": "2EzOAsIGoU0R",
        "outputId": "f9b1b4ba-5455-4886-a8be-d1465f5b10ef"
      },
      "execution_count": 48,
      "outputs": [
        {
          "output_type": "execute_result",
          "data": {
            "text/plain": [
              "4"
            ]
          },
          "metadata": {},
          "execution_count": 48
        }
      ]
    },
    {
      "cell_type": "code",
      "source": [
        "#Experimentation with division\n",
        "2 / 2\n"
      ],
      "metadata": {
        "colab": {
          "base_uri": "https://localhost:8080/"
        },
        "id": "dUfXx8A4oiMp",
        "outputId": "9ea32cdf-235d-4bad-e2e3-79c5ce70f193"
      },
      "execution_count": 49,
      "outputs": [
        {
          "output_type": "execute_result",
          "data": {
            "text/plain": [
              "1.0"
            ]
          },
          "metadata": {},
          "execution_count": 49
        }
      ]
    },
    {
      "cell_type": "code",
      "source": [
        "#Experimentation with addition\n",
        "2 + 2\n"
      ],
      "metadata": {
        "colab": {
          "base_uri": "https://localhost:8080/"
        },
        "id": "NRpWfAqKojuO",
        "outputId": "86538fa3-ca5d-412b-b5de-24e5c9400a0f"
      },
      "execution_count": 8,
      "outputs": [
        {
          "output_type": "execute_result",
          "data": {
            "text/plain": [
              "4"
            ]
          },
          "metadata": {},
          "execution_count": 8
        }
      ]
    },
    {
      "cell_type": "code",
      "source": [
        "#Experimentation with subtraction\n",
        "2 - 2"
      ],
      "metadata": {
        "colab": {
          "base_uri": "https://localhost:8080/"
        },
        "id": "h3-ozG9Qol1c",
        "outputId": "bd857dac-fdc7-4b77-8f7b-d1aa6862fa76"
      },
      "execution_count": 9,
      "outputs": [
        {
          "output_type": "execute_result",
          "data": {
            "text/plain": [
              "0"
            ]
          },
          "metadata": {},
          "execution_count": 9
        }
      ]
    },
    {
      "cell_type": "code",
      "source": [
        "#Experimentation with strings in double and single quotes\n",
        "z = 'string'\n",
        "y = \"Also a string\"\n",
        "\n",
        "print(z)\n",
        "print(y)"
      ],
      "metadata": {
        "colab": {
          "base_uri": "https://localhost:8080/"
        },
        "id": "YPpFrhyHongT",
        "outputId": "98c4059c-980b-4c93-909a-c584b89a15a3"
      },
      "execution_count": 10,
      "outputs": [
        {
          "output_type": "stream",
          "name": "stdout",
          "text": [
            "string\n",
            "Also a string\n"
          ]
        }
      ]
    },
    {
      "cell_type": "code",
      "source": [
        "#This is a list\n",
        "[1,2,3,4]"
      ],
      "metadata": {
        "colab": {
          "base_uri": "https://localhost:8080/"
        },
        "id": "FILRwVReo_N9",
        "outputId": "29a491e9-9b34-4f67-d0b1-c6b7c9471bc5"
      },
      "execution_count": 11,
      "outputs": [
        {
          "output_type": "execute_result",
          "data": {
            "text/plain": [
              "[1, 2, 3, 4]"
            ]
          },
          "metadata": {},
          "execution_count": 11
        }
      ]
    },
    {
      "cell_type": "code",
      "source": [
        "#This is also a list\n",
        "list1 = [11, 22, 33, 44]\n",
        "print(list1)"
      ],
      "metadata": {
        "colab": {
          "base_uri": "https://localhost:8080/"
        },
        "id": "qNmvzy87pDa0",
        "outputId": "e1479833-7133-4132-dd80-7b915ef56207"
      },
      "execution_count": 12,
      "outputs": [
        {
          "output_type": "stream",
          "name": "stdout",
          "text": [
            "[11, 22, 33, 44]\n"
          ]
        }
      ]
    },
    {
      "cell_type": "code",
      "source": [
        "#Finding the type\n",
        "type(list1)"
      ],
      "metadata": {
        "colab": {
          "base_uri": "https://localhost:8080/"
        },
        "id": "ymcJ6Ld6pMry",
        "outputId": "bc6c081f-8ef7-4797-bf92-41d2064d8b9a"
      },
      "execution_count": 50,
      "outputs": [
        {
          "output_type": "execute_result",
          "data": {
            "text/plain": [
              "numpy.ndarray"
            ]
          },
          "metadata": {},
          "execution_count": 50
        }
      ]
    },
    {
      "cell_type": "code",
      "source": [
        "#This will display the value at the given index\n",
        "print(list1[0])\n",
        "print(list1[1])"
      ],
      "metadata": {
        "colab": {
          "base_uri": "https://localhost:8080/"
        },
        "id": "y7AI0n9upRXf",
        "outputId": "ce7daa6f-945f-4bee-a3bd-b68a41c990ad"
      },
      "execution_count": 15,
      "outputs": [
        {
          "output_type": "stream",
          "name": "stdout",
          "text": [
            "11\n",
            "22\n"
          ]
        }
      ]
    },
    {
      "cell_type": "code",
      "source": [
        "#import numpy\n",
        "\n",
        "import numpy as np"
      ],
      "metadata": {
        "id": "YAyvFB4grOef"
      },
      "execution_count": 16,
      "outputs": []
    },
    {
      "cell_type": "code",
      "source": [
        "#Creating a numpy array\n",
        "list1 = np.array([1,2,3,4])"
      ],
      "metadata": {
        "id": "Ppn8d6rorIH7"
      },
      "execution_count": 51,
      "outputs": []
    },
    {
      "cell_type": "code",
      "source": [
        "print(list1)"
      ],
      "metadata": {
        "colab": {
          "base_uri": "https://localhost:8080/"
        },
        "id": "NVUu3OqTrUwu",
        "outputId": "b5c59d66-77c9-4916-8967-87e828b7d1a2"
      },
      "execution_count": 18,
      "outputs": [
        {
          "output_type": "stream",
          "name": "stdout",
          "text": [
            "[1 2 3 4]\n"
          ]
        }
      ]
    },
    {
      "cell_type": "code",
      "source": [
        "print(list1 * 2)"
      ],
      "metadata": {
        "colab": {
          "base_uri": "https://localhost:8080/"
        },
        "id": "dGKYSi5jrYS0",
        "outputId": "cf2de473-2b7e-4a1e-a7d6-6e7caed22bd9"
      },
      "execution_count": 19,
      "outputs": [
        {
          "output_type": "stream",
          "name": "stdout",
          "text": [
            "[2 4 6 8]\n"
          ]
        }
      ]
    },
    {
      "cell_type": "markdown",
      "source": [
        "# Create a dataframe from multiple lists of equal length"
      ],
      "metadata": {
        "id": "pdjuXT_2rnJo"
      }
    },
    {
      "cell_type": "code",
      "source": [
        "A = [1, 2, 3]\n",
        "B = [\"Anna\", \"Ben\", \"Charlie\"]\n",
        "C = [True, True, False]"
      ],
      "metadata": {
        "id": "Aqxd4Gnjrutk"
      },
      "execution_count": 20,
      "outputs": []
    },
    {
      "cell_type": "markdown",
      "source": [
        "###The following is a collection of lists that have been placed into a data frame. The dataframe is then manipulated. "
      ],
      "metadata": {
        "id": "r3vsmMXHJrMf"
      }
    },
    {
      "cell_type": "code",
      "source": [
        "dataframe1 = np.array([A,B,C])\n",
        "print(dataframe1)"
      ],
      "metadata": {
        "colab": {
          "base_uri": "https://localhost:8080/"
        },
        "id": "3AX-EW4rr_fz",
        "outputId": "6acff480-e9ae-419a-f8bd-03d1d59bad2b"
      },
      "execution_count": 21,
      "outputs": [
        {
          "output_type": "stream",
          "name": "stdout",
          "text": [
            "[['1' '2' '3']\n",
            " ['Anna' 'Ben' 'Charlie']\n",
            " ['True' 'True' 'False']]\n"
          ]
        }
      ]
    },
    {
      "cell_type": "code",
      "source": [
        "print(dataframe1[0])"
      ],
      "metadata": {
        "colab": {
          "base_uri": "https://localhost:8080/"
        },
        "id": "Ts-rlJ8PsHxN",
        "outputId": "d87f3ae5-9e82-4ee3-a809-72e05080b8b4"
      },
      "execution_count": 22,
      "outputs": [
        {
          "output_type": "stream",
          "name": "stdout",
          "text": [
            "['1' '2' '3']\n"
          ]
        }
      ]
    },
    {
      "cell_type": "code",
      "source": [
        "#add a new row to the dataframe\n",
        "D = [20,30,40]\n"
      ],
      "metadata": {
        "id": "jvHIhZ3WsOlM"
      },
      "execution_count": 24,
      "outputs": []
    },
    {
      "cell_type": "code",
      "source": [
        "dataframe1 = np.vstack([dataframe1, D])"
      ],
      "metadata": {
        "id": "JYrJ24_4sfME"
      },
      "execution_count": 25,
      "outputs": []
    },
    {
      "cell_type": "code",
      "source": [
        "print(dataframe1)\n"
      ],
      "metadata": {
        "colab": {
          "base_uri": "https://localhost:8080/"
        },
        "id": "_a-xdSGCskfG",
        "outputId": "dac89bd6-7b37-419d-841b-133ba403dac2"
      },
      "execution_count": 27,
      "outputs": [
        {
          "output_type": "stream",
          "name": "stdout",
          "text": [
            "[['1' '2' '3']\n",
            " ['Anna' 'Ben' 'Charlie']\n",
            " ['True' 'True' 'False']\n",
            " ['20' '30' '40']]\n"
          ]
        }
      ]
    },
    {
      "cell_type": "code",
      "source": [
        "print(dataframe1[3])"
      ],
      "metadata": {
        "colab": {
          "base_uri": "https://localhost:8080/"
        },
        "id": "VOsOZJansu6i",
        "outputId": "a9514404-881a-4cf2-b435-8d6fa2adaffa"
      },
      "execution_count": 29,
      "outputs": [
        {
          "output_type": "stream",
          "name": "stdout",
          "text": [
            "['20' '30' '40']\n"
          ]
        }
      ]
    },
    {
      "cell_type": "code",
      "source": [
        "#perform numerical computations\n",
        "dataframe1[0].astype(int) +  dataframe1[3].astype(int)\n"
      ],
      "metadata": {
        "colab": {
          "base_uri": "https://localhost:8080/"
        },
        "id": "WUJvWiR6UXGG",
        "outputId": "7176b23d-c64b-4e6a-b721-dddc4fcbae3c"
      },
      "execution_count": 31,
      "outputs": [
        {
          "output_type": "execute_result",
          "data": {
            "text/plain": [
              "array([21, 32, 43])"
            ]
          },
          "metadata": {},
          "execution_count": 31
        }
      ]
    },
    {
      "cell_type": "code",
      "source": [
        "dataframe1[0].astype(int)* 2"
      ],
      "metadata": {
        "colab": {
          "base_uri": "https://localhost:8080/"
        },
        "id": "3Z_b5UH3UoEx",
        "outputId": "797182a6-0983-40e8-f6ae-ef3057d74687"
      },
      "execution_count": 32,
      "outputs": [
        {
          "output_type": "execute_result",
          "data": {
            "text/plain": [
              "array([2, 4, 6])"
            ]
          },
          "metadata": {},
          "execution_count": 32
        }
      ]
    },
    {
      "cell_type": "code",
      "source": [
        "#delete a row form a dataframe\n",
        "dataframe1 = np.delete(dataframe1, 2, 0)"
      ],
      "metadata": {
        "id": "zVW6GjWTUvCq"
      },
      "execution_count": 33,
      "outputs": []
    },
    {
      "cell_type": "code",
      "source": [
        "print(dataframe1)"
      ],
      "metadata": {
        "colab": {
          "base_uri": "https://localhost:8080/"
        },
        "id": "sSfUjqV9U26M",
        "outputId": "b9d6c764-fd7d-4ef8-bd0a-145fd1c75140"
      },
      "execution_count": 34,
      "outputs": [
        {
          "output_type": "stream",
          "name": "stdout",
          "text": [
            "[['1' '2' '3']\n",
            " ['Anna' 'Ben' 'Charlie']\n",
            " ['20' '30' '40']]\n"
          ]
        }
      ]
    },
    {
      "cell_type": "code",
      "source": [
        "#remove the last row from the dataframe\n",
        "dataframe1 = np.delete(dataframe1, -1, 0)\n",
        "print(dataframe1)"
      ],
      "metadata": {
        "colab": {
          "base_uri": "https://localhost:8080/"
        },
        "id": "-S8kMVONVHcQ",
        "outputId": "9c403c86-9f7d-4052-921f-82ae0ac0b723"
      },
      "execution_count": 35,
      "outputs": [
        {
          "output_type": "stream",
          "name": "stdout",
          "text": [
            "[['1' '2' '3']\n",
            " ['Anna' 'Ben' 'Charlie']]\n"
          ]
        }
      ]
    },
    {
      "cell_type": "code",
      "source": [
        "#provide multiple indix values to delete multiple rows at once\n",
        "dataframe1 = np.delete(dataframe1, [0, -1], 0)\n",
        "print(dataframe1)"
      ],
      "metadata": {
        "colab": {
          "base_uri": "https://localhost:8080/"
        },
        "id": "G3Cs8hhfVVEI",
        "outputId": "9db86fcb-eb54-4f36-ef52-4a033079b343"
      },
      "execution_count": 36,
      "outputs": [
        {
          "output_type": "stream",
          "name": "stdout",
          "text": [
            "[]\n"
          ]
        }
      ]
    },
    {
      "cell_type": "markdown",
      "source": [
        "# Analyse Data Set - IRIS"
      ],
      "metadata": {
        "id": "cnOHYDdsWYCJ"
      }
    },
    {
      "cell_type": "code",
      "source": [
        "#import pandas library\n",
        "import pandas as pd\n"
      ],
      "metadata": {
        "id": "BgfcE1gNWUP8"
      },
      "execution_count": 37,
      "outputs": []
    },
    {
      "cell_type": "code",
      "source": [
        "iris = pd.read_csv('/content/sample_data/iris_csv.csv')\n",
        "print(iris.shape)\n",
        "print(iris)"
      ],
      "metadata": {
        "colab": {
          "base_uri": "https://localhost:8080/"
        },
        "id": "jryWRKU0ANM5",
        "outputId": "873b4015-1866-4d95-9aaa-f41144e21e3f"
      },
      "execution_count": 40,
      "outputs": [
        {
          "output_type": "stream",
          "name": "stdout",
          "text": [
            "(150, 5)\n",
            "     sepallength  sepalwidth  petallength  petalwidth           class\n",
            "0            5.1         3.5          1.4         0.2     Iris-setosa\n",
            "1            4.9         3.0          1.4         0.2     Iris-setosa\n",
            "2            4.7         3.2          1.3         0.2     Iris-setosa\n",
            "3            4.6         3.1          1.5         0.2     Iris-setosa\n",
            "4            5.0         3.6          1.4         0.2     Iris-setosa\n",
            "..           ...         ...          ...         ...             ...\n",
            "145          6.7         3.0          5.2         2.3  Iris-virginica\n",
            "146          6.3         2.5          5.0         1.9  Iris-virginica\n",
            "147          6.5         3.0          5.2         2.0  Iris-virginica\n",
            "148          6.2         3.4          5.4         2.3  Iris-virginica\n",
            "149          5.9         3.0          5.1         1.8  Iris-virginica\n",
            "\n",
            "[150 rows x 5 columns]\n"
          ]
        }
      ]
    },
    {
      "cell_type": "code",
      "source": [
        "#find information about a particular specie - create a new data frames subset\n",
        "iris_setosa = iris[iris['class']=='iris-setosa']\n",
        "print(iris_setosa)"
      ],
      "metadata": {
        "colab": {
          "base_uri": "https://localhost:8080/"
        },
        "id": "XygKN9vYDfL0",
        "outputId": "e62896ec-b7bb-428a-fd60-2f89c47e9915"
      },
      "execution_count": 41,
      "outputs": [
        {
          "output_type": "stream",
          "name": "stdout",
          "text": [
            "Empty DataFrame\n",
            "Columns: [sepallength, sepalwidth, petallength, petalwidth, class]\n",
            "Index: []\n"
          ]
        }
      ]
    },
    {
      "cell_type": "markdown",
      "source": [
        "#Install data visualisation packages"
      ],
      "metadata": {
        "id": "u9LC-YFIETKt"
      }
    },
    {
      "cell_type": "code",
      "source": [
        "pip install matplotlib"
      ],
      "metadata": {
        "colab": {
          "base_uri": "https://localhost:8080/"
        },
        "id": "RJgGffRVEWhb",
        "outputId": "c3f6dca4-1f77-4757-81ab-440f788f7cf5"
      },
      "execution_count": 42,
      "outputs": [
        {
          "output_type": "stream",
          "name": "stdout",
          "text": [
            "Requirement already satisfied: matplotlib in /usr/local/lib/python3.7/dist-packages (3.2.2)\n",
            "Requirement already satisfied: python-dateutil>=2.1 in /usr/local/lib/python3.7/dist-packages (from matplotlib) (2.8.2)\n",
            "Requirement already satisfied: cycler>=0.10 in /usr/local/lib/python3.7/dist-packages (from matplotlib) (0.11.0)\n",
            "Requirement already satisfied: numpy>=1.11 in /usr/local/lib/python3.7/dist-packages (from matplotlib) (1.19.5)\n",
            "Requirement already satisfied: pyparsing!=2.0.4,!=2.1.2,!=2.1.6,>=2.0.1 in /usr/local/lib/python3.7/dist-packages (from matplotlib) (3.0.6)\n",
            "Requirement already satisfied: kiwisolver>=1.0.1 in /usr/local/lib/python3.7/dist-packages (from matplotlib) (1.3.2)\n",
            "Requirement already satisfied: six>=1.5 in /usr/local/lib/python3.7/dist-packages (from python-dateutil>=2.1->matplotlib) (1.15.0)\n"
          ]
        }
      ]
    },
    {
      "cell_type": "code",
      "source": [
        "pip install plotnine"
      ],
      "metadata": {
        "colab": {
          "base_uri": "https://localhost:8080/"
        },
        "id": "efIZGgfAEc3O",
        "outputId": "e789598b-c4e9-4127-f183-6c560dc7f6ed"
      },
      "execution_count": 43,
      "outputs": [
        {
          "output_type": "stream",
          "name": "stdout",
          "text": [
            "Requirement already satisfied: plotnine in /usr/local/lib/python3.7/dist-packages (0.6.0)\n",
            "Requirement already satisfied: numpy>=1.16.0 in /usr/local/lib/python3.7/dist-packages (from plotnine) (1.19.5)\n",
            "Requirement already satisfied: pandas>=0.25.0 in /usr/local/lib/python3.7/dist-packages (from plotnine) (1.1.5)\n",
            "Requirement already satisfied: descartes>=1.1.0 in /usr/local/lib/python3.7/dist-packages (from plotnine) (1.1.0)\n",
            "Requirement already satisfied: mizani>=0.6.0 in /usr/local/lib/python3.7/dist-packages (from plotnine) (0.6.0)\n",
            "Requirement already satisfied: scipy>=1.2.0 in /usr/local/lib/python3.7/dist-packages (from plotnine) (1.4.1)\n",
            "Requirement already satisfied: patsy>=0.4.1 in /usr/local/lib/python3.7/dist-packages (from plotnine) (0.5.2)\n",
            "Requirement already satisfied: matplotlib>=3.1.1 in /usr/local/lib/python3.7/dist-packages (from plotnine) (3.2.2)\n",
            "Requirement already satisfied: statsmodels>=0.9.0 in /usr/local/lib/python3.7/dist-packages (from plotnine) (0.10.2)\n",
            "Requirement already satisfied: python-dateutil>=2.1 in /usr/local/lib/python3.7/dist-packages (from matplotlib>=3.1.1->plotnine) (2.8.2)\n",
            "Requirement already satisfied: pyparsing!=2.0.4,!=2.1.2,!=2.1.6,>=2.0.1 in /usr/local/lib/python3.7/dist-packages (from matplotlib>=3.1.1->plotnine) (3.0.6)\n",
            "Requirement already satisfied: kiwisolver>=1.0.1 in /usr/local/lib/python3.7/dist-packages (from matplotlib>=3.1.1->plotnine) (1.3.2)\n",
            "Requirement already satisfied: cycler>=0.10 in /usr/local/lib/python3.7/dist-packages (from matplotlib>=3.1.1->plotnine) (0.11.0)\n",
            "Requirement already satisfied: palettable in /usr/local/lib/python3.7/dist-packages (from mizani>=0.6.0->plotnine) (3.3.0)\n",
            "Requirement already satisfied: pytz>=2017.2 in /usr/local/lib/python3.7/dist-packages (from pandas>=0.25.0->plotnine) (2018.9)\n",
            "Requirement already satisfied: six in /usr/local/lib/python3.7/dist-packages (from patsy>=0.4.1->plotnine) (1.15.0)\n"
          ]
        }
      ]
    },
    {
      "cell_type": "code",
      "source": [
        "from plotnine import *"
      ],
      "metadata": {
        "id": "F4q_JOucEuGN"
      },
      "execution_count": 44,
      "outputs": []
    },
    {
      "cell_type": "markdown",
      "source": [
        "#Plot data from the dataframe"
      ],
      "metadata": {
        "id": "_bxFxZdUFUWw"
      }
    },
    {
      "cell_type": "code",
      "source": [
        "ggplot(iris, aes(x='sepallength', y='sepalwidth')) + geom_point()"
      ],
      "metadata": {
        "colab": {
          "base_uri": "https://localhost:8080/",
          "height": 468
        },
        "id": "R874ok35ExLd",
        "outputId": "2480704e-1fd5-40ec-e73d-b946a63fdb62"
      },
      "execution_count": 47,
      "outputs": [
        {
          "output_type": "display_data",
          "data": {
            "image/png": "[encoded data removed]",
            "text/plain": [
              "<Figure size 640x480 with 1 Axes>"
            ]
          },
          "metadata": {}
        },
        {
          "output_type": "execute_result",
          "data": {
            "text/plain": [
              "<ggplot: (8787663558549)>"
            ]
          },
          "metadata": {},
          "execution_count": 47
        }
      ]
    }
  ]
}